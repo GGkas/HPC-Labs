{
 "cells": [
  {
   "cell_type": "code",
   "execution_count": 1,
   "metadata": {},
   "outputs": [
    {
     "ename": "SyntaxError",
     "evalue": "invalid syntax (<ipython-input-1-c5f84084ae03>, line 12)",
     "output_type": "error",
     "traceback": [
      "\u001b[0;36m  File \u001b[0;32m\"<ipython-input-1-c5f84084ae03>\"\u001b[0;36m, line \u001b[0;32m12\u001b[0m\n\u001b[0;31m    ax.bar(idx, vals, yerr=err. align='center', alpha=0.5, ecolor='red', capsize=10)\u001b[0m\n\u001b[0m                                     ^\u001b[0m\n\u001b[0;31mSyntaxError\u001b[0m\u001b[0;31m:\u001b[0m invalid syntax\n"
     ]
    }
   ],
   "source": [
    "import matplotlib.pyplot as plt\n",
    "import numpy as np\n",
    "\n",
    "\n",
    "bins = ['cpu-uth', 'gpu-uth', 'cpu-xray', 'gpu-xray', 'cpu-ship', 'gpu-ship',\\\n",
    "        'cpu-planet', 'gpu-planet']\n",
    "vals = [0.00304, 0.001943, 0.004219, 0.001995, 0.018515, 0.00722, 0.074196, 0.021794]\n",
    "err = [7.44506e-05, 6.89438e-05, 0.000263, 3.02857e-05, 0.000649, 4.48983e-05, 0.00164, 9.232716e-06]\n",
    "\n",
    "idx = np.arange(len(bins))\n",
    "\n",
    "fig, ax = plt.subplots()\n",
    "ax.bar(idx, vals, yerr=err, align='center', alpha=0.5, ecolor='red', capsize=10)\n",
    "ax.set_ylabel(\"Time (s)\")\n",
    "ax.set_xticks(idx)\n",
    "ax.set_xticklabels(bins)\n",
    "ax.set_title(\"Total execution time for CPU and GPU on different images\")\n",
    "plt.tight_layout()\n",
    "plt.show()\n",
    "\n",
    "# PYTHON CODE FOR FIGURE"
   ]
  },
  {
   "cell_type": "code",
   "execution_count": null,
   "metadata": {},
   "outputs": [],
   "source": []
  }
 ],
 "metadata": {
  "kernelspec": {
   "display_name": "Python 3",
   "language": "python",
   "name": "python3"
  },
  "language_info": {
   "codemirror_mode": {
    "name": "ipython",
    "version": 3
   },
   "file_extension": ".py",
   "mimetype": "text/x-python",
   "name": "python",
   "nbconvert_exporter": "python",
   "pygments_lexer": "ipython3",
   "version": "3.7.4"
  },
  "latex_envs": {
   "LaTeX_envs_menu_present": true,
   "autoclose": false,
   "autocomplete": true,
   "bibliofile": "biblio.bib",
   "cite_by": "apalike",
   "current_citInitial": 1,
   "eqLabelWithNumbers": true,
   "eqNumInitial": 1,
   "hotkeys": {
    "equation": "Ctrl-E",
    "itemize": "Ctrl-I"
   },
   "labels_anchors": false,
   "latex_user_defs": false,
   "report_style_numbering": false,
   "user_envs_cfg": false
  }
 },
 "nbformat": 4,
 "nbformat_minor": 2
}
